{
  "nbformat": 4,
  "nbformat_minor": 0,
  "metadata": {
    "colab": {
      "provenance": [],
      "authorship_tag": "ABX9TyPxZjQR7kf9ESdktju5eeYj",
      "include_colab_link": true
    },
    "kernelspec": {
      "name": "python3",
      "display_name": "Python 3"
    },
    "language_info": {
      "name": "python"
    }
  },
  "cells": [
    {
      "cell_type": "markdown",
      "metadata": {
        "id": "view-in-github",
        "colab_type": "text"
      },
      "source": [
        "<a href=\"https://colab.research.google.com/github/Ajadamson206/AI/blob/main/HW2/HW2_Problem2.ipynb\" target=\"_parent\"><img src=\"https://colab.research.google.com/assets/colab-badge.svg\" alt=\"Open In Colab\"/></a>"
      ]
    },
    {
      "cell_type": "code",
      "execution_count": 1,
      "metadata": {
        "id": "j0rogykL9uEB"
      },
      "outputs": [],
      "source": [
        "#\n",
        "#   Albert Adamson\n",
        "#   HW 2 - Problem 2: Potential Friends\n",
        "#\n",
        "#   Purpose: Use BFS to discover potential missing immediate connections in a group\n",
        "#\n",
        "\n",
        "from collections import deque\n",
        "\n",
        "# Node Class -> Name + List of Neighbors\n",
        "class Node:\n",
        "    def __init__(self, name: str, neighbors: list = []):\n",
        "        self.name = name\n",
        "        self.neighbors = neighbors\n",
        "\n",
        "    def setNeighbors(self, neighbors: list):\n",
        "        self.neighbors = neighbors\n",
        "\n",
        "    def printNeighbors(self):\n",
        "        buffer = \"Neighbors: \"\n",
        "        for neighbor in self.neighbors:\n",
        "            buffer += neighbor.name\n",
        "            buffer += \" \"\n",
        "        print(buffer)\n",
        "\n",
        "# Graph Class -> List of all Nodes in the graph (Edges are within Node Class)\n",
        "class Graph:\n",
        "    def __init__(self, nodes: list):\n",
        "        self.nodes = nodes\n",
        "\n",
        "    def findNode(self, name: str) -> Node:\n",
        "        for node in self.nodes:\n",
        "            if node.name == name:\n",
        "                return node\n",
        "\n",
        "        return None\n",
        "\n",
        "    def printGraph(self):\n",
        "        for node in self.nodes:\n",
        "            buffer = \"\"\n",
        "            buffer += node.name\n",
        "            buffer += \": \"\n",
        "            for neighbor in node.neighbors:\n",
        "                buffer += neighbor.name\n",
        "                buffer += \", \"\n",
        "            print(buffer)\n",
        "\n",
        "def potentialFriends(graph: Graph, name: str):\n",
        "    # Find the starting node\n",
        "    node = graph.findNode(name)\n",
        "    if node == None:\n",
        "        print(\"Unknown Name\")\n",
        "        return\n",
        "\n",
        "    # BFS Begin (Add 1st level to the queue and set)\n",
        "    queue = deque(node.neighbors)\n",
        "    visited = set(node.neighbors)\n",
        "    visited.add(node)\n",
        "\n",
        "    # Solution is a list of all 2nd level friends\n",
        "    solution = []\n",
        "\n",
        "    # No need to add to queue only need to go to 2nd level\n",
        "    while len(queue) != 0:\n",
        "        curNode = queue.popleft()\n",
        "\n",
        "        # Loop through the neighbors and add them to the solution\n",
        "        for neighbors in curNode.neighbors:\n",
        "            if neighbors in visited:\n",
        "                continue\n",
        "            solution.append(neighbors.name)\n",
        "            visited.add(neighbors)\n",
        "\n",
        "\n",
        "    # Print \"No Neighbors\" instead of an empty list\n",
        "    if len(solution) == 0:\n",
        "        print(\"No Neighbors\")\n",
        "    else:\n",
        "        print(solution)"
      ]
    },
    {
      "cell_type": "code",
      "source": [
        "def main():\n",
        "    # Create Nodes\n",
        "    sophia = Node(\"Sophia\")\n",
        "    maya = Node(\"Maya\")\n",
        "    maria = Node(\"Maria\")\n",
        "    adam = Node(\"Adam\")\n",
        "    david = Node(\"David\")\n",
        "\n",
        "    # Create Edges\n",
        "    sophia.setNeighbors([maria, maya])\n",
        "    maya.setNeighbors([sophia, maria, david])\n",
        "    maria.setNeighbors([adam, sophia, maya, david])\n",
        "    adam.setNeighbors([maria])\n",
        "    david.setNeighbors([maria, maya])\n",
        "\n",
        "    graph = Graph([sophia, maya, maria, adam, david])\n",
        "\n",
        "    potentialFriends(graph, \"Adam\")\n",
        "    potentialFriends(graph, \"David\")\n",
        "    potentialFriends(graph, \"Sophia\")\n",
        "\n",
        "if __name__ == \"__main__\":\n",
        "    main()"
      ],
      "metadata": {
        "colab": {
          "base_uri": "https://localhost:8080/"
        },
        "id": "dCm1_ERb9zrW",
        "outputId": "8378dea5-677c-416e-8556-5fea3770ceb2"
      },
      "execution_count": 2,
      "outputs": [
        {
          "output_type": "stream",
          "name": "stdout",
          "text": [
            "['Sophia', 'Maya', 'David']\n",
            "['Adam', 'Sophia']\n",
            "['Adam', 'David']\n"
          ]
        }
      ]
    }
  ]
}