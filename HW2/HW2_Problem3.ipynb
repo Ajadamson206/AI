{
  "nbformat": 4,
  "nbformat_minor": 0,
  "metadata": {
    "colab": {
      "provenance": [],
      "authorship_tag": "ABX9TyPAph7hrj8bqviA++vwy4C7",
      "include_colab_link": true
    },
    "kernelspec": {
      "name": "python3",
      "display_name": "Python 3"
    },
    "language_info": {
      "name": "python"
    }
  },
  "cells": [
    {
      "cell_type": "markdown",
      "metadata": {
        "id": "view-in-github",
        "colab_type": "text"
      },
      "source": [
        "<a href=\"https://colab.research.google.com/github/Ajadamson206/AI/blob/main/HW2/HW2_Problem3.ipynb\" target=\"_parent\"><img src=\"https://colab.research.google.com/assets/colab-badge.svg\" alt=\"Open In Colab\"/></a>"
      ]
    },
    {
      "cell_type": "code",
      "execution_count": 3,
      "metadata": {
        "id": "4aSTfG1IBoSv"
      },
      "outputs": [],
      "source": [
        "#\n",
        "# Albert Adamson\n",
        "# HW 2 - Problem 3: Maze Solver\n",
        "#\n",
        "# Purpose: Use DFS to see if a maze is solvable\n",
        "#\n",
        "\n",
        "from collections import deque\n",
        "from typing import List, Tuple  # Used for the function headers\n",
        "\n",
        "# Class that is used to Solve the Maze\n",
        "class MazeSolver:\n",
        "        # Pass the maze into the function\n",
        "        def __init__(self, maze: List[List[int]]):\n",
        "                self.maze = maze\n",
        "                self.start = (0, 2)\n",
        "                self.visited = set()    # Set is a class variable since I can place it inside of the valid move function\n",
        "\n",
        "        # Check for out of bounds,\n",
        "        def isValidMove(self, position: Tuple[int, int]) -> bool:\n",
        "                # Check Out of Bounds\n",
        "                if 0 <= position[0] < len(self.maze) and 0 <= position[1] < len(self.maze[0]):\n",
        "\n",
        "                        # Check if it is a valid maze position\n",
        "                        return (self.maze[position[0]][position[1]] not in self.visited) and (self.maze[position[0]][position[1]] != 1)\n",
        "\n",
        "                return False\n",
        "\n",
        "        # Use DFS to see if the maze is solvable\n",
        "        def dfs(self) -> bool:\n",
        "                stack = deque()\n",
        "                stack.append(self.start)\n",
        "\n",
        "                while len(stack) != 0:\n",
        "                        current = stack.pop()\n",
        "\n",
        "                        # Check for cycles\n",
        "                        if current in self.visited:\n",
        "                                continue\n",
        "\n",
        "                        # Check for the win condition\n",
        "                        if self.maze[current[0]][current[1]] == 3:\n",
        "                                return True\n",
        "\n",
        "                        self.visited.add(current)\n",
        "\n",
        "                        # Add North, West, East, South\n",
        "                        north = (current[0] - 1, current[1])\n",
        "                        if(self.isValidMove(north)):\n",
        "                                stack.append(north)\n",
        "\n",
        "                        west = (current[0], current[1] - 1)\n",
        "                        if(self.isValidMove(west)):\n",
        "                                stack.append(west)\n",
        "\n",
        "                        east = (current[0], current[1] + 1)\n",
        "                        if(self.isValidMove(east)):\n",
        "                                stack.append(east)\n",
        "\n",
        "                        south = (current[0] + 1, current[1])\n",
        "                        if self.isValidMove(south):\n",
        "                                stack.append(south)\n",
        "\n",
        "\n",
        "                # If we don't reach the end it isn't solvable\n",
        "                return False\n",
        "\n",
        "        # Function to either print success or failure\n",
        "        def isMazeSolvable(self):\n",
        "                if self.dfs():\n",
        "                        print(\"SUCESS! Maze is solvable\")\n",
        "                else:\n",
        "                        print(\"FAILURE! Maze is NOT solvable\")\n",
        "\n",
        "\n",
        "\n"
      ]
    },
    {
      "cell_type": "code",
      "source": [
        "def main():\n",
        "    maze1 =[[1, 2, 1, 1, 1, 1, 1, 1, 1, 1, 1, 1, 1, 1, 1, 1, 1, 1, 1, 1, 1],\n",
        "            [1, 0, 0, 0, 0, 0, 1, 0, 0, 0, 0, 0, 1, 0, 0, 0, 0, 0, 0, 0, 1],\n",
        "            [1, 0, 1, 1, 1, 0, 1, 0, 1, 1, 1, 0, 1, 0, 1, 1, 1, 1, 1, 0, 1],\n",
        "            [1, 0, 1, 0, 0, 0, 1, 0, 0, 0, 1, 0, 0, 0, 1, 0, 1, 0, 0, 0, 1],\n",
        "            [1, 0, 1, 1, 1, 1, 1, 1, 1, 0, 1, 1, 1, 0, 1, 0, 1, 0, 1, 1, 1],\n",
        "            [1, 0, 0, 0, 1, 0, 0, 0, 1, 0, 0, 0, 1, 0, 0, 0, 1, 0, 1, 0, 1],\n",
        "            [1, 1, 1, 0, 1, 0, 1, 1, 1, 0, 1, 0, 1, 1, 1, 1, 1, 0, 1, 0, 1],\n",
        "            [1, 0, 0, 0, 0, 0, 1, 0, 0, 0, 1, 0, 0, 0, 1, 0, 0, 0, 0, 0, 1],\n",
        "            [1, 0, 1, 1, 1, 1, 1, 0, 1, 0, 1, 1, 1, 1, 1, 0, 1, 1, 1, 1, 1],\n",
        "            [1, 0, 0, 0, 0, 0, 0, 0, 1, 0, 0, 0, 1, 0, 0, 0, 0, 0, 0, 0, 1],\n",
        "            [1, 1, 1, 1, 1, 1, 1, 1, 1, 1, 1, 1, 1, 1, 1, 1, 1, 1, 1, 3, 1]\n",
        "            ]\n",
        "\n",
        "    maze2 =[[1, 2, 1, 1, 1, 1, 1, 1, 1, 1, 1, 1, 1, 1, 1, 1, 1, 1, 1, 1, 1],\n",
        "            [1, 0, 0, 0, 0, 0, 1, 0, 0, 0, 0, 0, 1, 0, 0, 0, 0, 0, 0, 0, 1],\n",
        "            [1, 0, 1, 1, 1, 0, 1, 0, 1, 1, 1, 0, 1, 0, 1, 1, 1, 1, 1, 0, 1],\n",
        "            [1, 0, 1, 0, 0, 0, 1, 0, 0, 0, 1, 0, 0, 0, 1, 0, 1, 0, 0, 0, 1],\n",
        "            [1, 0, 1, 1, 1, 1, 1, 1, 1, 0, 1, 1, 1, 0, 1, 0, 1, 0, 1, 1, 1],\n",
        "            [1, 0, 0, 0, 1, 0, 0, 0, 1, 0, 0, 0, 1, 0, 0, 0, 1, 0, 1, 0, 1],\n",
        "            [1, 1, 1, 1, 1, 0, 1, 1, 1, 0, 1, 0, 1, 1, 1, 1, 1, 0, 1, 0, 1],\n",
        "            [1, 0, 0, 0, 0, 0, 1, 0, 0, 0, 1, 0, 0, 0, 1, 0, 0, 0, 0, 0, 1],\n",
        "            [1, 0, 1, 1, 1, 1, 1, 0, 1, 0, 1, 1, 1, 1, 1, 0, 1, 1, 1, 1, 1],\n",
        "            [1, 0, 0, 0, 0, 0, 0, 0, 1, 0, 0, 0, 1, 0, 0, 0, 0, 0, 0, 0, 1],\n",
        "            [1, 1, 1, 1, 1, 1, 1, 1, 1, 1, 1, 1, 1, 1, 1, 1, 1, 1, 1, 3, 1]\n",
        "            ]\n",
        "\n",
        "    solve1 = MazeSolver(maze1)\n",
        "    solve1.isMazeSolvable()\n",
        "\n",
        "    solve2 = MazeSolver(maze2)\n",
        "    solve2.isMazeSolvable()\n",
        "\n",
        "\n",
        "if __name__ == \"__main__\":\n",
        "        main()"
      ],
      "metadata": {
        "colab": {
          "base_uri": "https://localhost:8080/"
        },
        "id": "4xpuCtJOB5P5",
        "outputId": "ebe165cf-b5a9-43c4-b3f4-ba8ae229a71e"
      },
      "execution_count": 2,
      "outputs": [
        {
          "output_type": "stream",
          "name": "stdout",
          "text": [
            "SUCESS! Maze is solvable\n",
            "FAILURE! Maze is NOT solvable\n"
          ]
        }
      ]
    }
  ]
}