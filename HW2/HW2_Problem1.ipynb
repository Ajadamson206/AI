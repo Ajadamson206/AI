{
  "nbformat": 4,
  "nbformat_minor": 0,
  "metadata": {
    "colab": {
      "provenance": [],
      "authorship_tag": "ABX9TyP3A7wia/3cfh54BCza3dOB",
      "include_colab_link": true
    },
    "kernelspec": {
      "name": "python3",
      "display_name": "Python 3"
    },
    "language_info": {
      "name": "python"
    }
  },
  "cells": [
    {
      "cell_type": "markdown",
      "metadata": {
        "id": "view-in-github",
        "colab_type": "text"
      },
      "source": [
        "<a href=\"https://colab.research.google.com/github/Ajadamson206/AI/blob/main/HW2/HW2_Problem1.ipynb\" target=\"_parent\"><img src=\"https://colab.research.google.com/assets/colab-badge.svg\" alt=\"Open In Colab\"/></a>"
      ]
    },
    {
      "cell_type": "code",
      "execution_count": 2,
      "metadata": {
        "id": "UktYnpgNgD94"
      },
      "outputs": [],
      "source": [
        "#\n",
        "#   Albert Adamson\n",
        "#   HW 2 - Problem 1: Kth level friend\n",
        "#\n",
        "\n",
        "from collections import deque\n",
        "\n",
        "# Node Class -> Name + List of Neighbors\n",
        "class Node:\n",
        "    def __init__(self, name: str, neighbors: list = []):\n",
        "        self.name = name\n",
        "        self.neighbors = neighbors\n",
        "\n",
        "    def setNeighbors(self, neighbors: list):\n",
        "        self.neighbors = neighbors\n",
        "\n",
        "    def printNeighbors(self):\n",
        "        buffer = \"Neighbors: \"\n",
        "        for neighbor in self.neighbors:\n",
        "            buffer += neighbor.name\n",
        "            buffer += \" \"\n",
        "        print(buffer)\n",
        "\n",
        "# Graph Class -> List of all Nodes in the graph (Edges are within Node Class)\n",
        "class Graph:\n",
        "    def __init__(self, nodes: list):\n",
        "        self.nodes = nodes\n",
        "\n",
        "    def findNode(self, name: str) -> Node:\n",
        "        for node in self.nodes:\n",
        "            if node.name == name:\n",
        "                return node\n",
        "\n",
        "        return None\n",
        "\n",
        "#\n",
        "# Print Functions\n",
        "#\n",
        "\n",
        "def printQueue(queue: deque):\n",
        "    buffer = \"QUEUE: \"\n",
        "    for element in queue:\n",
        "        buffer += element[0].name\n",
        "        buffer += \" \"\n",
        "    print(buffer)\n",
        "\n",
        "def printSet(s: set):\n",
        "    buffer = \"SET: \"\n",
        "    for element in s:\n",
        "        buffer += element.name\n",
        "        buffer += \" \"\n",
        "    print(buffer)\n",
        "\n",
        "# Find kth friend function\n",
        "def findFriends(graph: Graph, name: str, level: int):\n",
        "    # General Checks + Initializations\n",
        "    if level < 0:\n",
        "        raise ValueError(\"Kth level must be greater than or equal to 1\")\n",
        "\n",
        "    node = graph.findNode(name)\n",
        "    if node == None:\n",
        "        print(\"Unknown Name\")\n",
        "        return\n",
        "\n",
        "    # BFS Begin\n",
        "    queue = deque()\n",
        "    visited = set()\n",
        "    queue.append((node, 0))\n",
        "\n",
        "    # Solution is a list of all kth level friends\n",
        "    solution = []\n",
        "\n",
        "    # Continue until list is empty\n",
        "    while len(queue) != 0:\n",
        "        current = queue.popleft()\n",
        "\n",
        "        # We can stop early if we pass the kth level\n",
        "        if(current[1] > level):\n",
        "            break\n",
        "\n",
        "        visited.add(current[0])\n",
        "\n",
        "        # Loop through all neighboring nodes\n",
        "        for neighbor in current[0].neighbors:\n",
        "            # Check if the node has been visited before\n",
        "            if neighbor not in visited:\n",
        "                # Append Nodes to Solution that are on the kth level\n",
        "                if current[1] + 1 == level:\n",
        "                    solution.append(neighbor.name)\n",
        "\n",
        "                queue.append((neighbor, current[1] + 1))\n",
        "\n",
        "    # Print \"No Neighbors\" instead of an empty list\n",
        "    if len(solution) == 0:\n",
        "        print(\"No Neighbors\")\n",
        "    else:\n",
        "        print(solution)\n",
        "\n"
      ]
    },
    {
      "cell_type": "code",
      "source": [
        "def main():\n",
        "    # Create Nodes with No Neighbors\n",
        "    bob = Node(\"Bob\")\n",
        "    rob = Node(\"Rob\")\n",
        "    richard = Node(\"Richard\")\n",
        "    amy = Node(\"Amy\")\n",
        "    peter = Node(\"Peter\")\n",
        "    pam = Node(\"Pam\")\n",
        "    roger = Node(\"Roger\")\n",
        "    anna = Node(\"Anna\")\n",
        "\n",
        "    # Add the Neighbors to Each Node\n",
        "    anna.setNeighbors([roger])\n",
        "    roger.setNeighbors([anna, pam])\n",
        "    pam.setNeighbors([bob, roger, peter])\n",
        "    peter.setNeighbors([pam, amy])\n",
        "    amy.setNeighbors([peter])\n",
        "    bob.setNeighbors([richard, rob, pam])\n",
        "    rob.setNeighbors([bob])\n",
        "    richard.setNeighbors([bob])\n",
        "\n",
        "    # Initialize the Graph\n",
        "    graph = Graph([bob, rob, richard, amy, peter, pam, roger, anna])\n",
        "\n",
        "    findFriends(graph, \"Bob\", 3)\n",
        "    #findFriends(graph, \"Amy\", 4)\n",
        "    #findFriends(graph, \"Anna\", 4)\n",
        "    #findFriends(graph, \"Richard\", 5)\n",
        "    #findFriends(graph, \"Rob\", 1)\n",
        "    #findFriends(graph, \"Richard\", 0)\n",
        "\n",
        "if __name__ == \"__main__\":\n",
        "    main()"
      ],
      "metadata": {
        "colab": {
          "base_uri": "https://localhost:8080/"
        },
        "id": "0y7Sl5QA2MbO",
        "outputId": "d685f2b4-2c7f-40b8-bb84-1f1c8a8c9105"
      },
      "execution_count": 5,
      "outputs": [
        {
          "output_type": "stream",
          "name": "stdout",
          "text": [
            "['Anna', 'Amy']\n"
          ]
        }
      ]
    }
  ]
}